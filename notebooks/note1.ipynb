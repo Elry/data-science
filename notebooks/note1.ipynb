{
 "metadata": {
  "language_info": {
   "codemirror_mode": {
    "name": "ipython",
    "version": 3
   },
   "file_extension": ".py",
   "mimetype": "text/x-python",
   "name": "python",
   "nbconvert_exporter": "python",
   "pygments_lexer": "ipython3",
   "version": "3.7.8-final"
  },
  "orig_nbformat": 2,
  "kernelspec": {
   "name": "Python 3.7.8 64-bit",
   "display_name": "Python 3.7.8 64-bit",
   "metadata": {
    "interpreter": {
     "hash": "414aac1cc9277568f91aad4a03306b5f61e4b796a76a967e2fd450903237a6e9"
    }
   }
  }
 },
 "nbformat": 4,
 "nbformat_minor": 2,
 "cells": [
  {
   "cell_type": "code",
   "execution_count": 46,
   "metadata": {},
   "outputs": [],
   "source": [
    "import pandas as pd\n",
    "df = pd.read_json(\"https://data.smcgov.org/resource/mb6a-xn89.json\")"
   ]
  },
  {
   "cell_type": "code",
   "execution_count": 47,
   "metadata": {
    "tags": []
   },
   "outputs": [
    {
     "output_type": "execute_result",
     "data": {
      "text/plain": [
       "          geography geography_type                     year  \\\n",
       "27       El Granada            CDP  2014-01-01T00:00:00.000   \n",
       "28  West Menlo Park            CDP  2014-01-01T00:00:00.000   \n",
       "29          Montara            CDP  2014-01-01T00:00:00.000   \n",
       "30       Burlingame           City  2014-01-01T00:00:00.000   \n",
       "31         La Honda            CDP  2014-01-01T00:00:00.000   \n",
       "\n",
       "    less_than_high_school_graduate  high_school_graduate  \\\n",
       "27                             9.2                   4.3   \n",
       "28                            37.8                   0.0   \n",
       "29                             3.3                   0.0   \n",
       "30                            20.1                   8.3   \n",
       "31                             0.0                   0.0   \n",
       "\n",
       "    some_college_or_associate_s_degree  bachelor_s_degree_or_higher  \\\n",
       "27                                 9.1                          2.4   \n",
       "28                                 5.7                          3.6   \n",
       "29                                 0.0                          0.0   \n",
       "30                                 7.4                          3.7   \n",
       "31                                11.9                          0.0   \n",
       "\n",
       "                                           location_1  \\\n",
       "27  {'type': 'Point', 'coordinates': [-122.473333,...   \n",
       "28  {'type': 'Point', 'coordinates': [-122.203056,...   \n",
       "29  {'type': 'Point', 'coordinates': [-122.506389,...   \n",
       "30  {'type': 'Point', 'coordinates': [-122.363611,...   \n",
       "31  {'type': 'Point', 'coordinates': [-122.197222,...   \n",
       "\n",
       "    :@computed_region_uph5_8hpn  :@computed_region_i2t2_cryp  \n",
       "27                         23.0                        28590  \n",
       "28                         34.0                        28595  \n",
       "29                         29.0                        28599  \n",
       "30                         16.0                        28587  \n",
       "31                         26.0                        28597  "
      ],
      "text/html": "<div>\n<style scoped>\n    .dataframe tbody tr th:only-of-type {\n        vertical-align: middle;\n    }\n\n    .dataframe tbody tr th {\n        vertical-align: top;\n    }\n\n    .dataframe thead th {\n        text-align: right;\n    }\n</style>\n<table border=\"1\" class=\"dataframe\">\n  <thead>\n    <tr style=\"text-align: right;\">\n      <th></th>\n      <th>geography</th>\n      <th>geography_type</th>\n      <th>year</th>\n      <th>less_than_high_school_graduate</th>\n      <th>high_school_graduate</th>\n      <th>some_college_or_associate_s_degree</th>\n      <th>bachelor_s_degree_or_higher</th>\n      <th>location_1</th>\n      <th>:@computed_region_uph5_8hpn</th>\n      <th>:@computed_region_i2t2_cryp</th>\n    </tr>\n  </thead>\n  <tbody>\n    <tr>\n      <th>27</th>\n      <td>El Granada</td>\n      <td>CDP</td>\n      <td>2014-01-01T00:00:00.000</td>\n      <td>9.2</td>\n      <td>4.3</td>\n      <td>9.1</td>\n      <td>2.4</td>\n      <td>{'type': 'Point', 'coordinates': [-122.473333,...</td>\n      <td>23.0</td>\n      <td>28590</td>\n    </tr>\n    <tr>\n      <th>28</th>\n      <td>West Menlo Park</td>\n      <td>CDP</td>\n      <td>2014-01-01T00:00:00.000</td>\n      <td>37.8</td>\n      <td>0.0</td>\n      <td>5.7</td>\n      <td>3.6</td>\n      <td>{'type': 'Point', 'coordinates': [-122.203056,...</td>\n      <td>34.0</td>\n      <td>28595</td>\n    </tr>\n    <tr>\n      <th>29</th>\n      <td>Montara</td>\n      <td>CDP</td>\n      <td>2014-01-01T00:00:00.000</td>\n      <td>3.3</td>\n      <td>0.0</td>\n      <td>0.0</td>\n      <td>0.0</td>\n      <td>{'type': 'Point', 'coordinates': [-122.506389,...</td>\n      <td>29.0</td>\n      <td>28599</td>\n    </tr>\n    <tr>\n      <th>30</th>\n      <td>Burlingame</td>\n      <td>City</td>\n      <td>2014-01-01T00:00:00.000</td>\n      <td>20.1</td>\n      <td>8.3</td>\n      <td>7.4</td>\n      <td>3.7</td>\n      <td>{'type': 'Point', 'coordinates': [-122.363611,...</td>\n      <td>16.0</td>\n      <td>28587</td>\n    </tr>\n    <tr>\n      <th>31</th>\n      <td>La Honda</td>\n      <td>CDP</td>\n      <td>2014-01-01T00:00:00.000</td>\n      <td>0.0</td>\n      <td>0.0</td>\n      <td>11.9</td>\n      <td>0.0</td>\n      <td>{'type': 'Point', 'coordinates': [-122.197222,...</td>\n      <td>26.0</td>\n      <td>28597</td>\n    </tr>\n  </tbody>\n</table>\n</div>"
     },
     "metadata": {},
     "execution_count": 47
    }
   ],
   "source": [
    "df.tail(5)"
   ]
  },
  {
   "cell_type": "code",
   "execution_count": 48,
   "metadata": {},
   "outputs": [
    {
     "output_type": "execute_result",
     "data": {
      "text/plain": [
       "2.85625"
      ]
     },
     "metadata": {},
     "execution_count": 48
    }
   ],
   "source": [
    "df.bachelor_s_degree_or_higher.mean()\n"
   ]
  },
  {
   "cell_type": "code",
   "execution_count": 49,
   "metadata": {},
   "outputs": [
    {
     "output_type": "execute_result",
     "data": {
      "text/plain": [
       "32"
      ]
     },
     "metadata": {},
     "execution_count": 49
    }
   ],
   "source": [
    "df.geography.count()"
   ]
  },
  {
   "cell_type": "code",
   "execution_count": 50,
   "metadata": {},
   "outputs": [
    {
     "output_type": "execute_result",
     "data": {
      "text/plain": [
       "array(['Town', 'City', 'CDP'], dtype=object)"
      ]
     },
     "metadata": {},
     "execution_count": 50
    }
   ],
   "source": [
    "df.geography_type.unique()"
   ]
  },
  {
   "cell_type": "code",
   "execution_count": 51,
   "metadata": {},
   "outputs": [
    {
     "output_type": "execute_result",
     "data": {
      "text/plain": [
       "0.0      4\n",
       "14.2     1\n",
       "8.5      1\n",
       "7.0      1\n",
       "100.0    1\n",
       "9.5      1\n",
       "11.9     1\n",
       "4.8      1\n",
       "31.1     1\n",
       "26.7     1\n",
       "6.2      1\n",
       "15.7     1\n",
       "22.1     1\n",
       "16.4     1\n",
       "6.3      1\n",
       "44.4     1\n",
       "20.9     1\n",
       "7.7      1\n",
       "9.2      1\n",
       "37.8     1\n",
       "3.3      1\n",
       "15.1     1\n",
       "48.1     1\n",
       "18.3     1\n",
       "21.2     1\n",
       "16.1     1\n",
       "13.6     1\n",
       "13.4     1\n",
       "20.1     1\n",
       "Name: less_than_high_school_graduate, dtype: int64"
      ]
     },
     "metadata": {},
     "execution_count": 51
    }
   ],
   "source": [
    "df.less_than_high_school_graduate.value_counts()"
   ]
  },
  {
   "cell_type": "code",
   "execution_count": 52,
   "metadata": {},
   "outputs": [
    {
     "output_type": "execute_result",
     "data": {
      "text/plain": [
       "0    17\n",
       "1    15\n",
       "Name: geography_mapped_value, dtype: int64"
      ]
     },
     "metadata": {},
     "execution_count": 52
    }
   ],
   "source": [
    "def mapGeo(x):\n",
    "  if x == \"City\":\n",
    "    return 1\n",
    "  else:\n",
    "    return 0\n",
    "\n",
    "df['geography_mapped_value'] = df.geography_type.apply(mapGeo)\n",
    "df.geography_mapped_value.value_counts()"
   ]
  }
 ]
}