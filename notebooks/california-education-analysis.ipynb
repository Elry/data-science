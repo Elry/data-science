{
 "metadata": {
  "language_info": {
   "codemirror_mode": {
    "name": "ipython",
    "version": 3
   },
   "file_extension": ".py",
   "mimetype": "text/x-python",
   "name": "python",
   "nbconvert_exporter": "python",
   "pygments_lexer": "ipython3",
   "version": "3.7.8-final"
  },
  "orig_nbformat": 2,
  "kernelspec": {
   "name": "Python 3.7.8 64-bit",
   "display_name": "Python 3.7.8 64-bit",
   "metadata": {
    "interpreter": {
     "hash": "414aac1cc9277568f91aad4a03306b5f61e4b796a76a967e2fd450903237a6e9"
    }
   }
  }
 },
 "nbformat": 4,
 "nbformat_minor": 2,
 "cells": [
  {
   "cell_type": "code",
   "execution_count": 1,
   "metadata": {},
   "outputs": [],
   "source": [
    "import pandas as pd\n",
    "df = pd.read_json(\"https://data.smcgov.org/resource/mb6a-xn89.json\")"
   ]
  },
  {
   "cell_type": "code",
   "execution_count": 10,
   "metadata": {
    "tags": []
   },
   "outputs": [
    {
     "output_type": "execute_result",
     "data": {
      "text/plain": [
       "                 geography geography_type                     year  \\\n",
       "0                 Atherton           Town  2014-01-01T00:00:00.000   \n",
       "1                    Colma           Town  2014-01-01T00:00:00.000   \n",
       "2              Foster City           City  2014-01-01T00:00:00.000   \n",
       "3           Portola Valley           Town  2014-01-01T00:00:00.000   \n",
       "4             Redwood City           City  2014-01-01T00:00:00.000   \n",
       "5                   Ladera            CDP  2014-01-01T00:00:00.000   \n",
       "6               Moss Beach            CDP  2014-01-01T00:00:00.000   \n",
       "7      South San Francisco           City  2014-01-01T00:00:00.000   \n",
       "8                  Belmont           City  2014-01-01T00:00:00.000   \n",
       "9                Daly City           City  2014-01-01T00:00:00.000   \n",
       "10               San Mateo           City  2014-01-01T00:00:00.000   \n",
       "11         North Fair Oaks            CDP  2014-01-01T00:00:00.000   \n",
       "12      Emerald Lake Hills            CDP  2014-01-01T00:00:00.000   \n",
       "13            Hillsborough           Town  2014-01-01T00:00:00.000   \n",
       "14                Brisbane           City  2014-01-01T00:00:00.000   \n",
       "15              Menlo Park           City  2014-01-01T00:00:00.000   \n",
       "16                Pacifica           City  2014-01-01T00:00:00.000   \n",
       "17              San Carlos           City  2014-01-01T00:00:00.000   \n",
       "18  Highlands-Baywood Park            CDP  2014-01-01T00:00:00.000   \n",
       "19          East Palo Alto           City  2014-01-01T00:00:00.000   \n",
       "20               Broadmoor            CDP  2014-01-01T00:00:00.000   \n",
       "21                Millbrae           City  2014-01-01T00:00:00.000   \n",
       "22                Loma Mar            CDP  2014-01-01T00:00:00.000   \n",
       "23                Woodside           Town  2014-01-01T00:00:00.000   \n",
       "24           Half Moon Bay           City  2014-01-01T00:00:00.000   \n",
       "25               San Bruno           City  2014-01-01T00:00:00.000   \n",
       "26               Pescadero            CDP  2014-01-01T00:00:00.000   \n",
       "27              El Granada            CDP  2014-01-01T00:00:00.000   \n",
       "28         West Menlo Park            CDP  2014-01-01T00:00:00.000   \n",
       "29                 Montara            CDP  2014-01-01T00:00:00.000   \n",
       "30              Burlingame           City  2014-01-01T00:00:00.000   \n",
       "31                La Honda            CDP  2014-01-01T00:00:00.000   \n",
       "\n",
       "    less_than_high_school_graduate  high_school_graduate  \\\n",
       "0                             13.6                  12.3   \n",
       "1                              6.3                   6.4   \n",
       "2                             11.9                   9.7   \n",
       "3                             48.1                   0.0   \n",
       "4                             16.4                  10.6   \n",
       "5                              0.0                   0.0   \n",
       "6                              4.8                   8.2   \n",
       "7                             14.2                   7.8   \n",
       "8                             20.9                   5.9   \n",
       "9                             13.4                   8.9   \n",
       "10                            16.1                   9.6   \n",
       "11                            26.7                  13.4   \n",
       "12                             6.2                   2.0   \n",
       "13                            31.1                   6.1   \n",
       "14                             0.0                   1.7   \n",
       "15                            22.1                  12.0   \n",
       "16                            15.1                   4.3   \n",
       "17                             8.5                   8.4   \n",
       "18                            15.7                  13.6   \n",
       "19                            18.3                  16.4   \n",
       "20                            21.2                   8.0   \n",
       "21                             7.0                   7.8   \n",
       "22                           100.0                   0.0   \n",
       "23                             0.0                   9.4   \n",
       "24                             9.5                   4.0   \n",
       "25                             7.7                   7.7   \n",
       "26                            44.4                   0.0   \n",
       "27                             9.2                   4.3   \n",
       "28                            37.8                   0.0   \n",
       "29                             3.3                   0.0   \n",
       "30                            20.1                   8.3   \n",
       "31                             0.0                   0.0   \n",
       "\n",
       "    some_college_or_associate_s_degree  bachelor_s_degree_or_higher  \\\n",
       "0                                  2.7                          3.5   \n",
       "1                                 10.4                          2.4   \n",
       "2                                  2.0                          2.9   \n",
       "3                                  0.0                          1.8   \n",
       "4                                  6.6                          3.0   \n",
       "5                                  0.0                          0.0   \n",
       "6                                  9.3                          3.5   \n",
       "7                                  4.4                          4.1   \n",
       "8                                  5.0                          3.6   \n",
       "9                                  6.1                          6.1   \n",
       "10                                 6.5                          3.4   \n",
       "11                                18.5                          4.6   \n",
       "12                                 4.1                          2.2   \n",
       "13                                 1.5                          1.4   \n",
       "14                                11.5                          3.3   \n",
       "15                                 8.7                          2.9   \n",
       "16                                 4.3                          4.6   \n",
       "17                                 4.4                          2.3   \n",
       "18                                10.2                          3.3   \n",
       "19                                17.2                          9.1   \n",
       "20                                 3.0                          2.4   \n",
       "21                                 5.3                          3.7   \n",
       "22                                 0.0                          0.0   \n",
       "23                                 6.8                          3.2   \n",
       "24                                 0.7                          1.4   \n",
       "25                                 7.0                          3.0   \n",
       "26                                 0.0                          0.0   \n",
       "27                                 9.1                          2.4   \n",
       "28                                 5.7                          3.6   \n",
       "29                                 0.0                          0.0   \n",
       "30                                 7.4                          3.7   \n",
       "31                                11.9                          0.0   \n",
       "\n",
       "                                           location_1  \\\n",
       "0   {'type': 'Point', 'coordinates': [-122.2, 37.4...   \n",
       "1   {'type': 'Point', 'coordinates': [-122.455556,...   \n",
       "2   {'type': 'Point', 'coordinates': [-122.266389,...   \n",
       "3   {'type': 'Point', 'coordinates': [-122.218611,...   \n",
       "4   {'type': 'Point', 'coordinates': [-122.236111,...   \n",
       "5   {'type': 'Point', 'coordinates': [-122.274167,...   \n",
       "6   {'type': 'Point', 'coordinates': [-122.512778,...   \n",
       "7   {'type': 'Point', 'coordinates': [-122.425556,...   \n",
       "8   {'type': 'Point', 'coordinates': [-122.291667,...   \n",
       "9   {'type': 'Point', 'coordinates': [-122.468333,...   \n",
       "10  {'type': 'Point', 'coordinates': [-122.313056,...   \n",
       "11  {'type': 'Point', 'coordinates': [-122.203611,...   \n",
       "12  {'type': 'Point', 'coordinates': [-122.266389,...   \n",
       "13  {'type': 'Point', 'coordinates': [-122.356389,...   \n",
       "14  {'type': 'Point', 'coordinates': [-122.419167,...   \n",
       "15  {'type': 'Point', 'coordinates': [-122.183333,...   \n",
       "16  {'type': 'Point', 'coordinates': [-122.485556,...   \n",
       "17  {'type': 'Point', 'coordinates': [-122.2668, 3...   \n",
       "18  {'type': 'Point', 'coordinates': [-122.343333,...   \n",
       "19  {'type': 'Point', 'coordinates': [-122.139722,...   \n",
       "20  {'type': 'Point', 'coordinates': [-122.478889,...   \n",
       "21  {'type': 'Point', 'coordinates': [-122.401389,...   \n",
       "22  {'type': 'Point', 'coordinates': [-122.3075, 3...   \n",
       "23  {'type': 'Point', 'coordinates': [-122.259722,...   \n",
       "24  {'type': 'Point', 'coordinates': [-122.436944,...   \n",
       "25  {'type': 'Point', 'coordinates': [-122.425278,...   \n",
       "26  {'type': 'Point', 'coordinates': [-122.381389,...   \n",
       "27  {'type': 'Point', 'coordinates': [-122.473333,...   \n",
       "28  {'type': 'Point', 'coordinates': [-122.203056,...   \n",
       "29  {'type': 'Point', 'coordinates': [-122.506389,...   \n",
       "30  {'type': 'Point', 'coordinates': [-122.363611,...   \n",
       "31  {'type': 'Point', 'coordinates': [-122.197222,...   \n",
       "\n",
       "    :@computed_region_uph5_8hpn  :@computed_region_i2t2_cryp  \\\n",
       "0                           2.0                        28596   \n",
       "1                           4.0                        28588   \n",
       "2                           6.0                          319   \n",
       "3                          14.0                        28597   \n",
       "4                          21.0                        28607   \n",
       "5                          27.0                        28591   \n",
       "6                          30.0                        28600   \n",
       "7                          19.0                        28613   \n",
       "8                          15.0                        28585   \n",
       "9                           NaN                        28588   \n",
       "10                         13.0                          317   \n",
       "11                         31.0                        28608   \n",
       "12                         24.0                        28607   \n",
       "13                          8.0                        28587   \n",
       "14                          NaN                        28586   \n",
       "15                         12.0                        28595   \n",
       "16                          9.0                        28604   \n",
       "17                         18.0                        28611   \n",
       "18                         25.0                          317   \n",
       "19                          5.0                          312   \n",
       "20                         22.0                        28589   \n",
       "21                         11.0                        28598   \n",
       "22                         28.0                        28592   \n",
       "23                         20.0                        28607   \n",
       "24                          7.0                        28590   \n",
       "25                          1.0                        28610   \n",
       "26                         32.0                        28605   \n",
       "27                         23.0                        28590   \n",
       "28                         34.0                        28595   \n",
       "29                         29.0                        28599   \n",
       "30                         16.0                        28587   \n",
       "31                         26.0                        28597   \n",
       "\n",
       "    geography_mapped_value  \n",
       "0                        0  \n",
       "1                        0  \n",
       "2                        1  \n",
       "3                        0  \n",
       "4                        1  \n",
       "5                        0  \n",
       "6                        0  \n",
       "7                        1  \n",
       "8                        1  \n",
       "9                        1  \n",
       "10                       1  \n",
       "11                       0  \n",
       "12                       0  \n",
       "13                       0  \n",
       "14                       1  \n",
       "15                       1  \n",
       "16                       1  \n",
       "17                       1  \n",
       "18                       0  \n",
       "19                       1  \n",
       "20                       0  \n",
       "21                       1  \n",
       "22                       0  \n",
       "23                       0  \n",
       "24                       1  \n",
       "25                       1  \n",
       "26                       0  \n",
       "27                       0  \n",
       "28                       0  \n",
       "29                       0  \n",
       "30                       1  \n",
       "31                       0  "
      ],
      "text/html": "<div>\n<style scoped>\n    .dataframe tbody tr th:only-of-type {\n        vertical-align: middle;\n    }\n\n    .dataframe tbody tr th {\n        vertical-align: top;\n    }\n\n    .dataframe thead th {\n        text-align: right;\n    }\n</style>\n<table border=\"1\" class=\"dataframe\">\n  <thead>\n    <tr style=\"text-align: right;\">\n      <th></th>\n      <th>geography</th>\n      <th>geography_type</th>\n      <th>year</th>\n      <th>less_than_high_school_graduate</th>\n      <th>high_school_graduate</th>\n      <th>some_college_or_associate_s_degree</th>\n      <th>bachelor_s_degree_or_higher</th>\n      <th>location_1</th>\n      <th>:@computed_region_uph5_8hpn</th>\n      <th>:@computed_region_i2t2_cryp</th>\n      <th>geography_mapped_value</th>\n    </tr>\n  </thead>\n  <tbody>\n    <tr>\n      <th>0</th>\n      <td>Atherton</td>\n      <td>Town</td>\n      <td>2014-01-01T00:00:00.000</td>\n      <td>13.6</td>\n      <td>12.3</td>\n      <td>2.7</td>\n      <td>3.5</td>\n      <td>{'type': 'Point', 'coordinates': [-122.2, 37.4...</td>\n      <td>2.0</td>\n      <td>28596</td>\n      <td>0</td>\n    </tr>\n    <tr>\n      <th>1</th>\n      <td>Colma</td>\n      <td>Town</td>\n      <td>2014-01-01T00:00:00.000</td>\n      <td>6.3</td>\n      <td>6.4</td>\n      <td>10.4</td>\n      <td>2.4</td>\n      <td>{'type': 'Point', 'coordinates': [-122.455556,...</td>\n      <td>4.0</td>\n      <td>28588</td>\n      <td>0</td>\n    </tr>\n    <tr>\n      <th>2</th>\n      <td>Foster City</td>\n      <td>City</td>\n      <td>2014-01-01T00:00:00.000</td>\n      <td>11.9</td>\n      <td>9.7</td>\n      <td>2.0</td>\n      <td>2.9</td>\n      <td>{'type': 'Point', 'coordinates': [-122.266389,...</td>\n      <td>6.0</td>\n      <td>319</td>\n      <td>1</td>\n    </tr>\n    <tr>\n      <th>3</th>\n      <td>Portola Valley</td>\n      <td>Town</td>\n      <td>2014-01-01T00:00:00.000</td>\n      <td>48.1</td>\n      <td>0.0</td>\n      <td>0.0</td>\n      <td>1.8</td>\n      <td>{'type': 'Point', 'coordinates': [-122.218611,...</td>\n      <td>14.0</td>\n      <td>28597</td>\n      <td>0</td>\n    </tr>\n    <tr>\n      <th>4</th>\n      <td>Redwood City</td>\n      <td>City</td>\n      <td>2014-01-01T00:00:00.000</td>\n      <td>16.4</td>\n      <td>10.6</td>\n      <td>6.6</td>\n      <td>3.0</td>\n      <td>{'type': 'Point', 'coordinates': [-122.236111,...</td>\n      <td>21.0</td>\n      <td>28607</td>\n      <td>1</td>\n    </tr>\n    <tr>\n      <th>5</th>\n      <td>Ladera</td>\n      <td>CDP</td>\n      <td>2014-01-01T00:00:00.000</td>\n      <td>0.0</td>\n      <td>0.0</td>\n      <td>0.0</td>\n      <td>0.0</td>\n      <td>{'type': 'Point', 'coordinates': [-122.274167,...</td>\n      <td>27.0</td>\n      <td>28591</td>\n      <td>0</td>\n    </tr>\n    <tr>\n      <th>6</th>\n      <td>Moss Beach</td>\n      <td>CDP</td>\n      <td>2014-01-01T00:00:00.000</td>\n      <td>4.8</td>\n      <td>8.2</td>\n      <td>9.3</td>\n      <td>3.5</td>\n      <td>{'type': 'Point', 'coordinates': [-122.512778,...</td>\n      <td>30.0</td>\n      <td>28600</td>\n      <td>0</td>\n    </tr>\n    <tr>\n      <th>7</th>\n      <td>South San Francisco</td>\n      <td>City</td>\n      <td>2014-01-01T00:00:00.000</td>\n      <td>14.2</td>\n      <td>7.8</td>\n      <td>4.4</td>\n      <td>4.1</td>\n      <td>{'type': 'Point', 'coordinates': [-122.425556,...</td>\n      <td>19.0</td>\n      <td>28613</td>\n      <td>1</td>\n    </tr>\n    <tr>\n      <th>8</th>\n      <td>Belmont</td>\n      <td>City</td>\n      <td>2014-01-01T00:00:00.000</td>\n      <td>20.9</td>\n      <td>5.9</td>\n      <td>5.0</td>\n      <td>3.6</td>\n      <td>{'type': 'Point', 'coordinates': [-122.291667,...</td>\n      <td>15.0</td>\n      <td>28585</td>\n      <td>1</td>\n    </tr>\n    <tr>\n      <th>9</th>\n      <td>Daly City</td>\n      <td>City</td>\n      <td>2014-01-01T00:00:00.000</td>\n      <td>13.4</td>\n      <td>8.9</td>\n      <td>6.1</td>\n      <td>6.1</td>\n      <td>{'type': 'Point', 'coordinates': [-122.468333,...</td>\n      <td>NaN</td>\n      <td>28588</td>\n      <td>1</td>\n    </tr>\n    <tr>\n      <th>10</th>\n      <td>San Mateo</td>\n      <td>City</td>\n      <td>2014-01-01T00:00:00.000</td>\n      <td>16.1</td>\n      <td>9.6</td>\n      <td>6.5</td>\n      <td>3.4</td>\n      <td>{'type': 'Point', 'coordinates': [-122.313056,...</td>\n      <td>13.0</td>\n      <td>317</td>\n      <td>1</td>\n    </tr>\n    <tr>\n      <th>11</th>\n      <td>North Fair Oaks</td>\n      <td>CDP</td>\n      <td>2014-01-01T00:00:00.000</td>\n      <td>26.7</td>\n      <td>13.4</td>\n      <td>18.5</td>\n      <td>4.6</td>\n      <td>{'type': 'Point', 'coordinates': [-122.203611,...</td>\n      <td>31.0</td>\n      <td>28608</td>\n      <td>0</td>\n    </tr>\n    <tr>\n      <th>12</th>\n      <td>Emerald Lake Hills</td>\n      <td>CDP</td>\n      <td>2014-01-01T00:00:00.000</td>\n      <td>6.2</td>\n      <td>2.0</td>\n      <td>4.1</td>\n      <td>2.2</td>\n      <td>{'type': 'Point', 'coordinates': [-122.266389,...</td>\n      <td>24.0</td>\n      <td>28607</td>\n      <td>0</td>\n    </tr>\n    <tr>\n      <th>13</th>\n      <td>Hillsborough</td>\n      <td>Town</td>\n      <td>2014-01-01T00:00:00.000</td>\n      <td>31.1</td>\n      <td>6.1</td>\n      <td>1.5</td>\n      <td>1.4</td>\n      <td>{'type': 'Point', 'coordinates': [-122.356389,...</td>\n      <td>8.0</td>\n      <td>28587</td>\n      <td>0</td>\n    </tr>\n    <tr>\n      <th>14</th>\n      <td>Brisbane</td>\n      <td>City</td>\n      <td>2014-01-01T00:00:00.000</td>\n      <td>0.0</td>\n      <td>1.7</td>\n      <td>11.5</td>\n      <td>3.3</td>\n      <td>{'type': 'Point', 'coordinates': [-122.419167,...</td>\n      <td>NaN</td>\n      <td>28586</td>\n      <td>1</td>\n    </tr>\n    <tr>\n      <th>15</th>\n      <td>Menlo Park</td>\n      <td>City</td>\n      <td>2014-01-01T00:00:00.000</td>\n      <td>22.1</td>\n      <td>12.0</td>\n      <td>8.7</td>\n      <td>2.9</td>\n      <td>{'type': 'Point', 'coordinates': [-122.183333,...</td>\n      <td>12.0</td>\n      <td>28595</td>\n      <td>1</td>\n    </tr>\n    <tr>\n      <th>16</th>\n      <td>Pacifica</td>\n      <td>City</td>\n      <td>2014-01-01T00:00:00.000</td>\n      <td>15.1</td>\n      <td>4.3</td>\n      <td>4.3</td>\n      <td>4.6</td>\n      <td>{'type': 'Point', 'coordinates': [-122.485556,...</td>\n      <td>9.0</td>\n      <td>28604</td>\n      <td>1</td>\n    </tr>\n    <tr>\n      <th>17</th>\n      <td>San Carlos</td>\n      <td>City</td>\n      <td>2014-01-01T00:00:00.000</td>\n      <td>8.5</td>\n      <td>8.4</td>\n      <td>4.4</td>\n      <td>2.3</td>\n      <td>{'type': 'Point', 'coordinates': [-122.2668, 3...</td>\n      <td>18.0</td>\n      <td>28611</td>\n      <td>1</td>\n    </tr>\n    <tr>\n      <th>18</th>\n      <td>Highlands-Baywood Park</td>\n      <td>CDP</td>\n      <td>2014-01-01T00:00:00.000</td>\n      <td>15.7</td>\n      <td>13.6</td>\n      <td>10.2</td>\n      <td>3.3</td>\n      <td>{'type': 'Point', 'coordinates': [-122.343333,...</td>\n      <td>25.0</td>\n      <td>317</td>\n      <td>0</td>\n    </tr>\n    <tr>\n      <th>19</th>\n      <td>East Palo Alto</td>\n      <td>City</td>\n      <td>2014-01-01T00:00:00.000</td>\n      <td>18.3</td>\n      <td>16.4</td>\n      <td>17.2</td>\n      <td>9.1</td>\n      <td>{'type': 'Point', 'coordinates': [-122.139722,...</td>\n      <td>5.0</td>\n      <td>312</td>\n      <td>1</td>\n    </tr>\n    <tr>\n      <th>20</th>\n      <td>Broadmoor</td>\n      <td>CDP</td>\n      <td>2014-01-01T00:00:00.000</td>\n      <td>21.2</td>\n      <td>8.0</td>\n      <td>3.0</td>\n      <td>2.4</td>\n      <td>{'type': 'Point', 'coordinates': [-122.478889,...</td>\n      <td>22.0</td>\n      <td>28589</td>\n      <td>0</td>\n    </tr>\n    <tr>\n      <th>21</th>\n      <td>Millbrae</td>\n      <td>City</td>\n      <td>2014-01-01T00:00:00.000</td>\n      <td>7.0</td>\n      <td>7.8</td>\n      <td>5.3</td>\n      <td>3.7</td>\n      <td>{'type': 'Point', 'coordinates': [-122.401389,...</td>\n      <td>11.0</td>\n      <td>28598</td>\n      <td>1</td>\n    </tr>\n    <tr>\n      <th>22</th>\n      <td>Loma Mar</td>\n      <td>CDP</td>\n      <td>2014-01-01T00:00:00.000</td>\n      <td>100.0</td>\n      <td>0.0</td>\n      <td>0.0</td>\n      <td>0.0</td>\n      <td>{'type': 'Point', 'coordinates': [-122.3075, 3...</td>\n      <td>28.0</td>\n      <td>28592</td>\n      <td>0</td>\n    </tr>\n    <tr>\n      <th>23</th>\n      <td>Woodside</td>\n      <td>Town</td>\n      <td>2014-01-01T00:00:00.000</td>\n      <td>0.0</td>\n      <td>9.4</td>\n      <td>6.8</td>\n      <td>3.2</td>\n      <td>{'type': 'Point', 'coordinates': [-122.259722,...</td>\n      <td>20.0</td>\n      <td>28607</td>\n      <td>0</td>\n    </tr>\n    <tr>\n      <th>24</th>\n      <td>Half Moon Bay</td>\n      <td>City</td>\n      <td>2014-01-01T00:00:00.000</td>\n      <td>9.5</td>\n      <td>4.0</td>\n      <td>0.7</td>\n      <td>1.4</td>\n      <td>{'type': 'Point', 'coordinates': [-122.436944,...</td>\n      <td>7.0</td>\n      <td>28590</td>\n      <td>1</td>\n    </tr>\n    <tr>\n      <th>25</th>\n      <td>San Bruno</td>\n      <td>City</td>\n      <td>2014-01-01T00:00:00.000</td>\n      <td>7.7</td>\n      <td>7.7</td>\n      <td>7.0</td>\n      <td>3.0</td>\n      <td>{'type': 'Point', 'coordinates': [-122.425278,...</td>\n      <td>1.0</td>\n      <td>28610</td>\n      <td>1</td>\n    </tr>\n    <tr>\n      <th>26</th>\n      <td>Pescadero</td>\n      <td>CDP</td>\n      <td>2014-01-01T00:00:00.000</td>\n      <td>44.4</td>\n      <td>0.0</td>\n      <td>0.0</td>\n      <td>0.0</td>\n      <td>{'type': 'Point', 'coordinates': [-122.381389,...</td>\n      <td>32.0</td>\n      <td>28605</td>\n      <td>0</td>\n    </tr>\n    <tr>\n      <th>27</th>\n      <td>El Granada</td>\n      <td>CDP</td>\n      <td>2014-01-01T00:00:00.000</td>\n      <td>9.2</td>\n      <td>4.3</td>\n      <td>9.1</td>\n      <td>2.4</td>\n      <td>{'type': 'Point', 'coordinates': [-122.473333,...</td>\n      <td>23.0</td>\n      <td>28590</td>\n      <td>0</td>\n    </tr>\n    <tr>\n      <th>28</th>\n      <td>West Menlo Park</td>\n      <td>CDP</td>\n      <td>2014-01-01T00:00:00.000</td>\n      <td>37.8</td>\n      <td>0.0</td>\n      <td>5.7</td>\n      <td>3.6</td>\n      <td>{'type': 'Point', 'coordinates': [-122.203056,...</td>\n      <td>34.0</td>\n      <td>28595</td>\n      <td>0</td>\n    </tr>\n    <tr>\n      <th>29</th>\n      <td>Montara</td>\n      <td>CDP</td>\n      <td>2014-01-01T00:00:00.000</td>\n      <td>3.3</td>\n      <td>0.0</td>\n      <td>0.0</td>\n      <td>0.0</td>\n      <td>{'type': 'Point', 'coordinates': [-122.506389,...</td>\n      <td>29.0</td>\n      <td>28599</td>\n      <td>0</td>\n    </tr>\n    <tr>\n      <th>30</th>\n      <td>Burlingame</td>\n      <td>City</td>\n      <td>2014-01-01T00:00:00.000</td>\n      <td>20.1</td>\n      <td>8.3</td>\n      <td>7.4</td>\n      <td>3.7</td>\n      <td>{'type': 'Point', 'coordinates': [-122.363611,...</td>\n      <td>16.0</td>\n      <td>28587</td>\n      <td>1</td>\n    </tr>\n    <tr>\n      <th>31</th>\n      <td>La Honda</td>\n      <td>CDP</td>\n      <td>2014-01-01T00:00:00.000</td>\n      <td>0.0</td>\n      <td>0.0</td>\n      <td>11.9</td>\n      <td>0.0</td>\n      <td>{'type': 'Point', 'coordinates': [-122.197222,...</td>\n      <td>26.0</td>\n      <td>28597</td>\n      <td>0</td>\n    </tr>\n  </tbody>\n</table>\n</div>"
     },
     "metadata": {},
     "execution_count": 10
    }
   ],
   "source": [
    "df.head(100)"
   ]
  },
  {
   "cell_type": "code",
   "execution_count": 3,
   "metadata": {},
   "outputs": [
    {
     "output_type": "execute_result",
     "data": {
      "text/plain": [
       "2.85625"
      ]
     },
     "metadata": {},
     "execution_count": 3
    }
   ],
   "source": [
    "df.bachelor_s_degree_or_higher.mean()\n"
   ]
  },
  {
   "cell_type": "code",
   "execution_count": 4,
   "metadata": {},
   "outputs": [
    {
     "output_type": "execute_result",
     "data": {
      "text/plain": [
       "32"
      ]
     },
     "metadata": {},
     "execution_count": 4
    }
   ],
   "source": [
    "df.geography.count()"
   ]
  },
  {
   "cell_type": "code",
   "execution_count": 5,
   "metadata": {},
   "outputs": [
    {
     "output_type": "execute_result",
     "data": {
      "text/plain": [
       "array(['Town', 'City', 'CDP'], dtype=object)"
      ]
     },
     "metadata": {},
     "execution_count": 5
    }
   ],
   "source": [
    "df.geography_type.unique()"
   ]
  },
  {
   "cell_type": "code",
   "execution_count": 6,
   "metadata": {},
   "outputs": [
    {
     "output_type": "execute_result",
     "data": {
      "text/plain": [
       "0.0      4\n",
       "14.2     1\n",
       "8.5      1\n",
       "7.0      1\n",
       "100.0    1\n",
       "9.5      1\n",
       "11.9     1\n",
       "4.8      1\n",
       "31.1     1\n",
       "26.7     1\n",
       "6.2      1\n",
       "15.7     1\n",
       "22.1     1\n",
       "16.4     1\n",
       "6.3      1\n",
       "44.4     1\n",
       "20.9     1\n",
       "7.7      1\n",
       "9.2      1\n",
       "37.8     1\n",
       "3.3      1\n",
       "15.1     1\n",
       "48.1     1\n",
       "18.3     1\n",
       "21.2     1\n",
       "16.1     1\n",
       "13.6     1\n",
       "13.4     1\n",
       "20.1     1\n",
       "Name: less_than_high_school_graduate, dtype: int64"
      ]
     },
     "metadata": {},
     "execution_count": 6
    }
   ],
   "source": [
    "df.less_than_high_school_graduate.value_counts()"
   ]
  },
  {
   "cell_type": "code",
   "execution_count": 7,
   "metadata": {},
   "outputs": [
    {
     "output_type": "execute_result",
     "data": {
      "text/plain": [
       "0    17\n",
       "1    15\n",
       "Name: geography_mapped_value, dtype: int64"
      ]
     },
     "metadata": {},
     "execution_count": 7
    }
   ],
   "source": [
    "def mapGeo(x):\n",
    "  if x == \"City\":\n",
    "    return 1\n",
    "  else:\n",
    "    return 0\n",
    "\n",
    "df['geography_mapped_value'] = df.geography_type.apply(mapGeo)\n",
    "df.geography_mapped_value.value_counts()"
   ]
  }
 ]
}